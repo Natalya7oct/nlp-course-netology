{
 "cells": [
  {
   "cell_type": "code",
   "execution_count": 1,
   "metadata": {},
   "outputs": [],
   "source": [
    "import warnings\n",
    "warnings.filterwarnings('ignore')\n",
    "import matplotlib.pyplot as plt"
   ]
  },
  {
   "cell_type": "markdown",
   "metadata": {
    "slideshow": {
     "slide_type": "slide"
    }
   },
   "source": [
    "# Анализ новостных сообщений"
   ]
  },
  {
   "cell_type": "code",
   "execution_count": 2,
   "metadata": {
    "slideshow": {
     "slide_type": "subslide"
    }
   },
   "outputs": [],
   "source": [
    "import pandas as pd\n",
    "\n",
    "df = pd.read_csv('../data/lenta-ru-news_2018.csv', usecols = ['title', 'text', 'topic', 'tags'])\n",
    "df.dropna(subset=['tags', 'topic'], inplace = True)"
   ]
  },
  {
   "cell_type": "code",
   "execution_count": 3,
   "metadata": {},
   "outputs": [
    {
     "data": {
      "text/plain": [
       "Мир                  5875\n",
       "Россия               5697\n",
       "Спорт                4206\n",
       "Экономика            4013\n",
       "Интернет и СМИ       3294\n",
       "Из жизни             2947\n",
       "Наука и техника      2943\n",
       "Бывший СССР          2768\n",
       "Культура             2643\n",
       "Силовые структуры    2130\n",
       "Дом                  1672\n",
       "Ценности             1596\n",
       "Путешествия          1011\n",
       "69-я параллель        343\n",
       "Крым                   89\n",
       "Культпросвет           30\n",
       "Бизнес                 11\n",
       "Name: topic, dtype: int64"
      ]
     },
     "execution_count": 3,
     "metadata": {},
     "output_type": "execute_result"
    }
   ],
   "source": [
    "df['topic'].value_counts()"
   ]
  },
  {
   "cell_type": "code",
   "execution_count": 4,
   "metadata": {},
   "outputs": [
    {
     "name": "stdout",
     "output_type": "stream",
     "text": [
      "1206\n"
     ]
    }
   ],
   "source": [
    "sample = df[df['tags'] == 'Кино']\n",
    "print(len(sample))"
   ]
  },
  {
   "cell_type": "code",
   "execution_count": 5,
   "metadata": {
    "slideshow": {
     "slide_type": "subslide"
    }
   },
   "outputs": [],
   "source": [
    "import re\n",
    "regex = re.compile(\"[А-Яа-я]+\")\n",
    "\n",
    "def words_only(text, regex=regex):\n",
    "    return \" \".join(regex.findall(text))\n",
    "\n",
    "\n",
    "sample.text = sample.text.str.lower()\n",
    "sample.text = sample.text.apply(words_only)"
   ]
  },
  {
   "cell_type": "markdown",
   "metadata": {
    "slideshow": {
     "slide_type": "subslide"
    }
   },
   "source": [
    "Результат:"
   ]
  },
  {
   "cell_type": "code",
   "execution_count": 6,
   "metadata": {
    "slideshow": {
     "slide_type": "subslide"
    }
   },
   "outputs": [
    {
     "data": {
      "text/plain": [
       "'американская актриса сондра локк звезда фильмов с клинтом иствудом и его бывшая возлюбленная скончалась в лос анджелесе об этом сообщает причиной смерти стал сердечный приступ вызванный онкологическими заболеваниями актриса боролась с раком груди и раком костей ей было года локк познакомилась с иствудом в году на съемках вестерна джоси уэйлс человек вне закона артисты закрутили роман после чего начали жить вместе иствуд требовал чтобы локк снималась только в фильмах с его участием она сыграла с возлюбленным в таких лентах как сквозь строй как ни крути проиграешь как только сможешь и внезапный удар пара прожила вместе лет после расставания актриса подала на раздел имущества и отсудила у иствуда миллиона долларов а также трехлетний контракт на съемку фильмов для студии впоследствии она подала в суд на актера еще раз заявив что он саботирует ее работу в студия отказывала ей во всех проектах локк требовала у иствуда миллиона долларов через суд однако затем стороны достигли соглашения сумма сделки не раскрывалась'"
      ]
     },
     "execution_count": 6,
     "metadata": {},
     "output_type": "execute_result"
    }
   ],
   "source": [
    "sample.text.iloc[0]"
   ]
  },
  {
   "cell_type": "code",
   "execution_count": 7,
   "metadata": {
    "slideshow": {
     "slide_type": "subslide"
    }
   },
   "outputs": [
    {
     "name": "stdout",
     "output_type": "stream",
     "text": [
      "['и', 'в', 'во', 'не', 'что', 'он', 'на', 'я', 'с', 'со', 'как', 'а', 'то', 'все', 'она', 'так', 'его', 'но', 'да', 'ты', 'к', 'у', 'же', 'вы', 'за', 'бы', 'по', 'только', 'ее', 'мне', 'было', 'вот', 'от', 'меня', 'еще', 'нет', 'о', 'из', 'ему', 'теперь', 'когда', 'даже', 'ну', 'вдруг', 'ли', 'если', 'уже', 'или', 'ни', 'быть', 'был', 'него', 'до', 'вас', 'нибудь', 'опять', 'уж', 'вам', 'ведь', 'там', 'потом', 'себя', 'ничего', 'ей', 'может', 'они', 'тут', 'где', 'есть', 'надо', 'ней', 'для', 'мы', 'тебя', 'их', 'чем', 'была', 'сам', 'чтоб', 'без', 'будто', 'чего', 'раз', 'тоже', 'себе', 'под', 'будет', 'ж', 'тогда', 'кто', 'этот', 'того', 'потому', 'этого', 'какой', 'совсем', 'ним', 'здесь', 'этом', 'один', 'почти', 'мой', 'тем', 'чтобы', 'нее', 'сейчас', 'были', 'куда', 'зачем', 'всех', 'никогда', 'можно', 'при', 'наконец', 'два', 'об', 'другой', 'хоть', 'после', 'над', 'больше', 'тот', 'через', 'эти', 'нас', 'про', 'всего', 'них', 'какая', 'много', 'разве', 'три', 'эту', 'моя', 'впрочем', 'хорошо', 'свою', 'этой', 'перед', 'иногда', 'лучше', 'чуть', 'том', 'нельзя', 'такой', 'им', 'более', 'всегда', 'конечно', 'всю', 'между', 'это', 'наш', 'тыс', 'млн', 'млрд', 'также', 'т', 'д']\n"
     ]
    }
   ],
   "source": [
    "from nltk.corpus import stopwords\n",
    "mystopwords = stopwords.words('russian') + ['это', 'наш' , 'тыс', 'млн', 'млрд', 'также',  'т', 'д']\n",
    "\n",
    "print(mystopwords)\n",
    "def  remove_stopwords(text, mystopwords = mystopwords):\n",
    "    try:\n",
    "        return \" \".join([token for token in text.split() if not token in mystopwords])\n",
    "    except:\n",
    "        return \"\"\n",
    "sample.text = sample.text.apply(remove_stopwords)   "
   ]
  },
  {
   "cell_type": "markdown",
   "metadata": {
    "slideshow": {
     "slide_type": "slide"
    }
   },
   "source": [
    "### Лемматизация"
   ]
  },
  {
   "cell_type": "code",
   "execution_count": 8,
   "metadata": {
    "slideshow": {
     "slide_type": "subslide"
    }
   },
   "outputs": [
    {
     "name": "stdout",
     "output_type": "stream",
     "text": [
      "CPU times: user 786 ms, sys: 70.8 ms, total: 857 ms\n",
      "Wall time: 9.68 s\n"
     ]
    }
   ],
   "source": [
    "%%time \n",
    "from pymystem3 import Mystem\n",
    "\n",
    "m = Mystem()\n",
    "def lemmatize(text, mystem=m):\n",
    "    try:\n",
    "        return \"\".join(m.lemmatize(text)).strip()  \n",
    "    except:\n",
    "        return \" \"\n",
    "\n",
    "sample.text = sample.text.apply(lemmatize)"
   ]
  },
  {
   "cell_type": "code",
   "execution_count": 9,
   "metadata": {},
   "outputs": [
    {
     "data": {
      "text/html": [
       "<div>\n",
       "<style scoped>\n",
       "    .dataframe tbody tr th:only-of-type {\n",
       "        vertical-align: middle;\n",
       "    }\n",
       "\n",
       "    .dataframe tbody tr th {\n",
       "        vertical-align: top;\n",
       "    }\n",
       "\n",
       "    .dataframe thead th {\n",
       "        text-align: right;\n",
       "    }\n",
       "</style>\n",
       "<table border=\"1\" class=\"dataframe\">\n",
       "  <thead>\n",
       "    <tr style=\"text-align: right;\">\n",
       "      <th></th>\n",
       "      <th>title</th>\n",
       "      <th>text</th>\n",
       "      <th>topic</th>\n",
       "      <th>tags</th>\n",
       "    </tr>\n",
       "  </thead>\n",
       "  <tbody>\n",
       "    <tr>\n",
       "      <th>90</th>\n",
       "      <td>Умерла отсудившая у Клинта Иствуда миллионы ак...</td>\n",
       "      <td>американский актриса сондра локк звезда фильм ...</td>\n",
       "      <td>Культура</td>\n",
       "      <td>Кино</td>\n",
       "    </tr>\n",
       "    <tr>\n",
       "      <th>147</th>\n",
       "      <td>Названы лучшие фильмы года</td>\n",
       "      <td>главный кинокритик журнал тод маккартить выбир...</td>\n",
       "      <td>Культура</td>\n",
       "      <td>Кино</td>\n",
       "    </tr>\n",
       "    <tr>\n",
       "      <th>158</th>\n",
       "      <td>Джон Сноу из «Игры престолов» приручил дракона...</td>\n",
       "      <td>сеть появляться шуточный видео который кит хар...</td>\n",
       "      <td>Культура</td>\n",
       "      <td>Кино</td>\n",
       "    </tr>\n",
       "    <tr>\n",
       "      <th>214</th>\n",
       "      <td>Подсчитано потраченное россиянами время на про...</td>\n",
       "      <td>житель россия среднее тратить час месяц просмо...</td>\n",
       "      <td>Культура</td>\n",
       "      <td>Кино</td>\n",
       "    </tr>\n",
       "    <tr>\n",
       "      <th>276</th>\n",
       "      <td>Трамп принял Кристиана Бэйла за настоящего Бэт...</td>\n",
       "      <td>актер кристиан бэйл сыграть бэтмена супергерой...</td>\n",
       "      <td>Культура</td>\n",
       "      <td>Кино</td>\n",
       "    </tr>\n",
       "  </tbody>\n",
       "</table>\n",
       "</div>"
      ],
      "text/plain": [
       "                                                 title  \\\n",
       "90   Умерла отсудившая у Клинта Иствуда миллионы ак...   \n",
       "147                         Названы лучшие фильмы года   \n",
       "158  Джон Сноу из «Игры престолов» приручил дракона...   \n",
       "214  Подсчитано потраченное россиянами время на про...   \n",
       "276  Трамп принял Кристиана Бэйла за настоящего Бэт...   \n",
       "\n",
       "                                                  text     topic  tags  \n",
       "90   американский актриса сондра локк звезда фильм ...  Культура  Кино  \n",
       "147  главный кинокритик журнал тод маккартить выбир...  Культура  Кино  \n",
       "158  сеть появляться шуточный видео который кит хар...  Культура  Кино  \n",
       "214  житель россия среднее тратить час месяц просмо...  Культура  Кино  \n",
       "276  актер кристиан бэйл сыграть бэтмена супергерой...  Культура  Кино  "
      ]
     },
     "execution_count": 9,
     "metadata": {},
     "output_type": "execute_result"
    }
   ],
   "source": [
    "sample.head()"
   ]
  },
  {
   "cell_type": "markdown",
   "metadata": {
    "slideshow": {
     "slide_type": "slide"
    }
   },
   "source": [
    "### Удаление стоп-лемм"
   ]
  },
  {
   "cell_type": "code",
   "execution_count": 10,
   "metadata": {
    "slideshow": {
     "slide_type": "subslide"
    }
   },
   "outputs": [],
   "source": [
    "mystoplemmas = ['который','прошлый','сей', 'свой', 'наш', 'мочь', 'год']\n",
    "def  remove_stoplemmas(text, mystoplemmas = mystoplemmas):\n",
    "    try:\n",
    "        return \" \".join([token for token in text.split() if not token in mystoplemmas])\n",
    "    except:\n",
    "        return \"\"\n",
    "\n",
    "sample.text = sample.text.apply(remove_stoplemmas)   "
   ]
  },
  {
   "cell_type": "code",
   "execution_count": 11,
   "metadata": {},
   "outputs": [
    {
     "name": "stdout",
     "output_type": "stream",
     "text": [
      "('фильм', 1623)\n",
      "('актер', 1153)\n",
      "('сериал', 730)\n",
      "('актриса', 655)\n",
      "('режиссер', 645)\n",
      "('роль', 634)\n",
      "('сообщать', 607)\n",
      "('становиться', 581)\n",
      "('лента', 572)\n",
      "('картина', 556)\n"
     ]
    }
   ],
   "source": [
    "from collections import Counter\n",
    "\n",
    "lemmata = []\n",
    "for index, row in sample.iterrows():\n",
    "    lemmata += row['text'].split()\n",
    "cnt = Counter(lemmata)\n",
    "for i in cnt.most_common(10):\n",
    "    print(i)"
   ]
  },
  {
   "cell_type": "code",
   "execution_count": 12,
   "metadata": {},
   "outputs": [
    {
     "data": {
      "image/png": "[encoded data removed]",
      "text/plain": [
       "<matplotlib.figure.Figure at 0x134530dd8>"
      ]
     },
     "metadata": {},
     "output_type": "display_data"
    }
   ],
   "source": [
    "from wordcloud import *\n",
    "word_freq = [i for i in cnt.most_common(100)]\n",
    "wd = WordCloud(background_color = 'white')\n",
    "wd.generate_from_frequencies(dict(word_freq))\n",
    "plt.figure()\n",
    "plt.imshow(wd, interpolation = 'bilinear')\n",
    "plt.axis('off')\n",
    "plt.show()"
   ]
  },
  {
   "cell_type": "markdown",
   "metadata": {},
   "source": [
    "## Извлечение ключевых словосочетаний\n",
    "\n",
    "\n",
    "Ключевые слова и словосочетания сложно определить формально. Поскольку определений ключевых слов и словосочетаний множество, существует масса методов их извлечения:\n",
    "* с учителем VS без учителя\n",
    "* частотные VS по-сложнее\n",
    "* из одного текста VS из коллекции текстов\n",
    "* слова (униграммы) VS биграммы VS $N$-граммы\n",
    "* термины VS именованные сущности VS коллокации\n",
    "* последовательные слова VS с использованием окна"
   ]
  },
  {
   "cell_type": "markdown",
   "metadata": {},
   "source": [
    "### Основные этапы извлечения ключевых слов и словосочетаний:\n",
    "1. Порождение кандидатов\n",
    "2. Оценка свойст кандидатов\n",
    "3. Выбор лучших кандидатов\n",
    "\n",
    "### Основные этапы извлечения ключевых слов и словосочетаний:\n",
    "* Морфологические шаблоны\n",
    "* Меры ассоциации биграмм: PMI, T-Score, LLR\n",
    "* Графовые методы: TextRank [Mihalcea, Tarau, 2004]\n",
    "* RAKE [Rose et al., 2010]\n",
    "* Синтаксические шаблоны\n"
   ]
  },
  {
   "cell_type": "markdown",
   "metadata": {},
   "source": [
    "### Морфологические шаблоны\n",
    "\n",
    "Можно использовать парсер  Yargy. \n",
    "\n",
    "Простейший шаблон ПРИЛ + СУЩ\n",
    "\n",
    "```\n",
    "S -> Adj<gnc-agr[1]> Noun<rt,gnc-agr[1]>; \n",
    "```"
   ]
  },
  {
   "cell_type": "markdown",
   "metadata": {
    "slideshow": {
     "slide_type": "subslide"
    }
   },
   "source": [
    "Переезжаем из DataFrame в списки:"
   ]
  },
  {
   "cell_type": "code",
   "execution_count": null,
   "metadata": {},
   "outputs": [],
   "source": []
  },
  {
   "cell_type": "code",
   "execution_count": 13,
   "metadata": {
    "slideshow": {
     "slide_type": "subslide"
    }
   },
   "outputs": [
    {
     "name": "stdout",
     "output_type": "stream",
     "text": [
      "Россия\n",
      "Спорт\n",
      "Путешествия\n",
      "Мир\n",
      "Бывший СССР\n",
      "Интернет и СМИ\n",
      "Силовые структуры\n",
      "Экономика\n",
      "Культура\n",
      "Дом\n",
      "Наука и техника\n",
      "Из жизни\n",
      "Ценности\n",
      "69-я параллель\n"
     ]
    }
   ],
   "source": [
    "tokens_by_topic = []\n",
    "for topic in df['topic'].unique():\n",
    "    if df['topic'].value_counts()[topic] > 100: \n",
    "        print(topic)\n",
    "        tokens = []\n",
    "        sample = df[df['topic']==topic].sample(n=100)\n",
    "\n",
    "        sample.text = sample.text.str.lower()\n",
    "        sample.text = sample.text.apply(words_only)\n",
    "        sample.text = sample.text.apply(remove_stopwords) \n",
    "        sample.text = sample.text.apply(lemmatize)\n",
    "        sample.text = sample.text.apply(remove_stoplemmas) \n",
    "        for i in range(len(sample)):\n",
    "            tokens += sample.text.iloc[i].split()\n",
    "        tokens_by_topic.append(tokens)"
   ]
  },
  {
   "cell_type": "markdown",
   "metadata": {
    "slideshow": {
     "slide_type": "subslide"
    }
   },
   "source": [
    "Выберем событие, из текстов про которое будем извлекать ключевые слова:"
   ]
  },
  {
   "cell_type": "code",
   "execution_count": 14,
   "metadata": {
    "slideshow": {
     "slide_type": "subslide"
    }
   },
   "outputs": [
    {
     "data": {
      "text/plain": [
       "'Наука и техника'"
      ]
     },
     "execution_count": 14,
     "metadata": {},
     "output_type": "execute_result"
    }
   ],
   "source": [
    "topic_id = 10\n",
    "df['topic'].unique()[topic_id]"
   ]
  },
  {
   "cell_type": "markdown",
   "metadata": {},
   "source": [
    "### Использование мер связности \n",
    "\n",
    "\n",
    "$w_1, w_2$ -- два слова\n",
    "\n",
    "$f(w_1), f(w_2)$ -- их частоты\n",
    "\n",
    "$f(w_1, w_2)$ -- совместная частота биграммы $w_1 w_2$\n",
    "\n",
    "$N$ -- число слов\n",
    "\n",
    "$PMI(w_1, w_2) = \\log \\frac{f(w_1, w_2)}{f(w_1)f(w_2)}$\n",
    "\n",
    "$T-score(w_1, w_2) = \\frac{f(w_1,w_2)-f(w_1)*f(w_2)}{f(w_1,w_2)/N}$\n",
    "\n",
    "Другие меры связности: $\\chi^2$, $\\texttt{log likelihood}$"
   ]
  },
  {
   "cell_type": "markdown",
   "metadata": {
    "slideshow": {
     "slide_type": "subslide"
    }
   },
   "source": [
    "Извлекаем биграммы по разным мерам связности:"
   ]
  },
  {
   "cell_type": "code",
   "execution_count": 15,
   "metadata": {
    "slideshow": {
     "slide_type": "subslide"
    }
   },
   "outputs": [
    {
     "name": "stdout",
     "output_type": "stream",
     "text": [
      "CPU times: user 59.5 ms, sys: 2.3 ms, total: 61.8 ms\n",
      "Wall time: 60.9 ms\n"
     ]
    }
   ],
   "source": [
    "%%time \n",
    "import nltk\n",
    "from nltk.collocations import *\n",
    "N_best = 100 # число извлекаемых биграм\n",
    "\n",
    "bigram_measures = nltk.collocations.BigramAssocMeasures() # класс для мер ассоциации биграм\n",
    "finder = BigramCollocationFinder.from_words(tokens_by_topic[topic_id]) # класс для хранения и извлечения биграм\n",
    "finder.apply_freq_filter(3) # избавимся от биграм, которые встречаются реже трех раз\n",
    "raw_freq_ranking = [' '.join(i) for i in finder.nbest(bigram_measures.raw_freq, N_best)] # выбираем топ-10 биграм по частоте \n",
    "tscore_ranking = [' '.join(i) for i in finder.nbest(bigram_measures.student_t, N_best)] # выбираем топ-100 биграм по каждой мере \n",
    "pmi_ranking =  [' '.join(i) for i in finder.nbest(bigram_measures.pmi, N_best)]\n",
    "llr_ranking = [' '. join(i) for i in finder.nbest(bigram_measures.likelihood_ratio, N_best)]\n",
    "chi2_ranking =  [' '.join(i) for i in finder.nbest(bigram_measures.chi_sq, N_best)]"
   ]
  },
  {
   "cell_type": "markdown",
   "metadata": {
    "slideshow": {
     "slide_type": "subslide"
    }
   },
   "source": [
    "Результаты:"
   ]
  },
  {
   "cell_type": "code",
   "execution_count": 16,
   "metadata": {
    "slideshow": {
     "slide_type": "subslide"
    }
   },
   "outputs": [
    {
     "data": {
      "text/html": [
       "<div>\n",
       "<style scoped>\n",
       "    .dataframe tbody tr th:only-of-type {\n",
       "        vertical-align: middle;\n",
       "    }\n",
       "\n",
       "    .dataframe tbody tr th {\n",
       "        vertical-align: top;\n",
       "    }\n",
       "\n",
       "    .dataframe thead th {\n",
       "        text-align: right;\n",
       "    }\n",
       "</style>\n",
       "<table border=\"1\" class=\"dataframe\">\n",
       "  <thead>\n",
       "    <tr style=\"text-align: right;\">\n",
       "      <th></th>\n",
       "      <th>raw_freq</th>\n",
       "      <th>pmi</th>\n",
       "      <th>t-score</th>\n",
       "      <th>chi2</th>\n",
       "      <th>llr</th>\n",
       "    </tr>\n",
       "  </thead>\n",
       "  <tbody>\n",
       "    <tr>\n",
       "      <th>0</th>\n",
       "      <td>настоящий время</td>\n",
       "      <td>головка самонаведение</td>\n",
       "      <td>настоящий время</td>\n",
       "      <td>головка самонаведение</td>\n",
       "      <td>пресс релиз</td>\n",
       "    </tr>\n",
       "    <tr>\n",
       "      <th>1</th>\n",
       "      <td>пресс релиз</td>\n",
       "      <td>помутнение сознание</td>\n",
       "      <td>пресс релиз</td>\n",
       "      <td>демографический бомба</td>\n",
       "      <td>пятый поколение</td>\n",
       "    </tr>\n",
       "    <tr>\n",
       "      <th>2</th>\n",
       "      <td>пятый поколение</td>\n",
       "      <td>саудовский аравия</td>\n",
       "      <td>пятый поколение</td>\n",
       "      <td>помутнение сознание</td>\n",
       "      <td>настоящий время</td>\n",
       "    </tr>\n",
       "    <tr>\n",
       "      <th>3</th>\n",
       "      <td>крылатый ракета</td>\n",
       "      <td>вица премьер</td>\n",
       "      <td>сообщаться пресс</td>\n",
       "      <td>саудовский аравия</td>\n",
       "      <td>сообщаться пресс</td>\n",
       "    </tr>\n",
       "    <tr>\n",
       "      <th>4</th>\n",
       "      <td>сообщаться пресс</td>\n",
       "      <td>оперативно тактический</td>\n",
       "      <td>крылатый ракета</td>\n",
       "      <td>сердечно сосудистый</td>\n",
       "      <td>риа новость</td>\n",
       "    </tr>\n",
       "    <tr>\n",
       "      <th>5</th>\n",
       "      <td>истребитель пятый</td>\n",
       "      <td>демографический бомба</td>\n",
       "      <td>истребитель пятый</td>\n",
       "      <td>белый карлик</td>\n",
       "      <td>опубликовывать журнал</td>\n",
       "    </tr>\n",
       "    <tr>\n",
       "      <th>6</th>\n",
       "      <td>ракета носитель</td>\n",
       "      <td>константин сивко</td>\n",
       "      <td>ракета носитель</td>\n",
       "      <td>пресс релиз</td>\n",
       "      <td>крылатый ракета</td>\n",
       "    </tr>\n",
       "    <tr>\n",
       "      <th>7</th>\n",
       "      <td>опубликовывать журнал</td>\n",
       "      <td>ближневосточный республика</td>\n",
       "      <td>риа новость</td>\n",
       "      <td>вица премьер</td>\n",
       "      <td>истребитель пятый</td>\n",
       "    </tr>\n",
       "    <tr>\n",
       "      <th>8</th>\n",
       "      <td>риа новость</td>\n",
       "      <td>молочный железа</td>\n",
       "      <td>опубликовывать журнал</td>\n",
       "      <td>оперативно тактический</td>\n",
       "      <td>сердечно сосудистый</td>\n",
       "    </tr>\n",
       "    <tr>\n",
       "      <th>9</th>\n",
       "      <td>представлять себя</td>\n",
       "      <td>ан руслан</td>\n",
       "      <td>представлять себя</td>\n",
       "      <td>млечный путь</td>\n",
       "      <td>представлять себя</td>\n",
       "    </tr>\n",
       "  </tbody>\n",
       "</table>\n",
       "</div>"
      ],
      "text/plain": [
       "                raw_freq                         pmi                t-score  \\\n",
       "0        настоящий время       головка самонаведение        настоящий время   \n",
       "1            пресс релиз         помутнение сознание            пресс релиз   \n",
       "2        пятый поколение           саудовский аравия        пятый поколение   \n",
       "3        крылатый ракета                вица премьер       сообщаться пресс   \n",
       "4       сообщаться пресс      оперативно тактический        крылатый ракета   \n",
       "5      истребитель пятый       демографический бомба      истребитель пятый   \n",
       "6        ракета носитель            константин сивко        ракета носитель   \n",
       "7  опубликовывать журнал  ближневосточный республика            риа новость   \n",
       "8            риа новость             молочный железа  опубликовывать журнал   \n",
       "9      представлять себя                   ан руслан      представлять себя   \n",
       "\n",
       "                     chi2                    llr  \n",
       "0   головка самонаведение            пресс релиз  \n",
       "1   демографический бомба        пятый поколение  \n",
       "2     помутнение сознание        настоящий время  \n",
       "3       саудовский аравия       сообщаться пресс  \n",
       "4     сердечно сосудистый            риа новость  \n",
       "5            белый карлик  опубликовывать журнал  \n",
       "6             пресс релиз        крылатый ракета  \n",
       "7            вица премьер      истребитель пятый  \n",
       "8  оперативно тактический    сердечно сосудистый  \n",
       "9            млечный путь      представлять себя  "
      ]
     },
     "execution_count": 16,
     "metadata": {},
     "output_type": "execute_result"
    }
   ],
   "source": [
    "rankings = pd.DataFrame({ 'chi2': chi2_ranking, 'llr':llr_ranking, 't-score' : tscore_ranking, 'pmi': pmi_ranking, 'raw_freq':raw_freq_ranking})\n",
    "rankings = rankings[['raw_freq', 'pmi', 't-score', 'chi2', 'llr']]\n",
    "rankings.head(10)"
   ]
  },
  {
   "cell_type": "markdown",
   "metadata": {
    "slideshow": {
     "slide_type": "subslide"
    }
   },
   "source": [
    "Похожи ли списки биграм?"
   ]
  },
  {
   "cell_type": "code",
   "execution_count": 17,
   "metadata": {
    "slideshow": {
     "slide_type": "subslide"
    }
   },
   "outputs": [
    {
     "data": {
      "text/plain": [
       "<matplotlib.axes._subplots.AxesSubplot at 0x138c816d8>"
      ]
     },
     "execution_count": 17,
     "metadata": {},
     "output_type": "execute_result"
    },
    {
     "data": {
      "image/png": "[encoded data removed]",
      "text/plain": [
       "<matplotlib.figure.Figure at 0x138c00b00>"
      ]
     },
     "metadata": {},
     "output_type": "display_data"
    }
   ],
   "source": [
    "from scipy.stats import spearmanr\n",
    "import seaborn as sns\n",
    "%matplotlib inline\n",
    "corr = spearmanr(rankings).correlation\n",
    "sns.heatmap(corr, annot=True, xticklabels = list(rankings), yticklabels = list(rankings))"
   ]
  },
  {
   "cell_type": "markdown",
   "metadata": {},
   "source": [
    "### TextRank\n",
    "\n",
    "* Вершины графа: слова\n",
    "* Ребра графа могут определяться по следующим правилам:\n",
    "    * Последовательные слова\n",
    "    * Слова внутри левого или правого окна в $\\pm$ 2-5 слов  \n",
    "\n",
    "* Ребра могут быть взвешенные или невзвешенные, направленные или ненаправленные\n",
    "* Любая мера центральности графа используется для определения важности вершин в графе. Слова, соответствующие наиболее важным вершинам, считаются ключевыми. \n",
    "* Если две соседние вершины оказываются важными, соответствующие им слова формируют ключевое словосочетание.\n",
    "\n",
    "PageRank: $PR(V_i)=(1-d)+d \\times \\sum_{V_j \\in In(V_i)} \\frac{PR(V_j)}{|Out(V_j)|}$"
   ]
  },
  {
   "cell_type": "markdown",
   "metadata": {
    "slideshow": {
     "slide_type": "subslide"
    }
   },
   "source": [
    "Используем TextRank для извлечения ключевых слов:"
   ]
  },
  {
   "cell_type": "code",
   "execution_count": 18,
   "metadata": {
    "slideshow": {
     "slide_type": "subslide"
    }
   },
   "outputs": [
    {
     "name": "stdout",
     "output_type": "stream",
     "text": [
      "CPU times: user 37.6 s, sys: 8.33 s, total: 45.9 s\n",
      "Wall time: 48.1 s\n"
     ]
    }
   ],
   "source": [
    "%%time\n",
    "from gensim.summarization import keywords\n",
    "text = ' '.join(tokens_by_topic[topic_id])\n",
    "kw = keywords(text)"
   ]
  },
  {
   "cell_type": "markdown",
   "metadata": {
    "slideshow": {
     "slide_type": "subslide"
    }
   },
   "source": [
    "Результаты:"
   ]
  },
  {
   "cell_type": "code",
   "execution_count": 19,
   "metadata": {
    "slideshow": {
     "slide_type": "subslide"
    }
   },
   "outputs": [
    {
     "data": {
      "text/html": [
       "<div>\n",
       "<style scoped>\n",
       "    .dataframe tbody tr th:only-of-type {\n",
       "        vertical-align: middle;\n",
       "    }\n",
       "\n",
       "    .dataframe tbody tr th {\n",
       "        vertical-align: top;\n",
       "    }\n",
       "\n",
       "    .dataframe thead th {\n",
       "        text-align: right;\n",
       "    }\n",
       "</style>\n",
       "<table border=\"1\" class=\"dataframe\">\n",
       "  <thead>\n",
       "    <tr style=\"text-align: right;\">\n",
       "      <th></th>\n",
       "      <th>Text Rank</th>\n",
       "    </tr>\n",
       "  </thead>\n",
       "  <tbody>\n",
       "    <tr>\n",
       "      <th>0</th>\n",
       "      <td>ученыи</td>\n",
       "    </tr>\n",
       "    <tr>\n",
       "      <th>1</th>\n",
       "      <td>сша</td>\n",
       "    </tr>\n",
       "    <tr>\n",
       "      <th>2</th>\n",
       "      <td>человек</td>\n",
       "    </tr>\n",
       "    <tr>\n",
       "      <th>3</th>\n",
       "      <td>система</td>\n",
       "    </tr>\n",
       "    <tr>\n",
       "      <th>4</th>\n",
       "      <td>россиискии двигатель</td>\n",
       "    </tr>\n",
       "    <tr>\n",
       "      <th>5</th>\n",
       "      <td>новыи</td>\n",
       "    </tr>\n",
       "    <tr>\n",
       "      <th>6</th>\n",
       "      <td>такои</td>\n",
       "    </tr>\n",
       "    <tr>\n",
       "      <th>7</th>\n",
       "      <td>сообщать</td>\n",
       "    </tr>\n",
       "    <tr>\n",
       "      <th>8</th>\n",
       "      <td>являться</td>\n",
       "    </tr>\n",
       "    <tr>\n",
       "      <th>9</th>\n",
       "      <td>один</td>\n",
       "    </tr>\n",
       "  </tbody>\n",
       "</table>\n",
       "</div>"
      ],
      "text/plain": [
       "              Text Rank\n",
       "0                ученыи\n",
       "1                   сша\n",
       "2               человек\n",
       "3               система\n",
       "4  россиискии двигатель\n",
       "5                 новыи\n",
       "6                 такои\n",
       "7              сообщать\n",
       "8              являться\n",
       "9                  один"
      ]
     },
     "execution_count": 19,
     "metadata": {},
     "output_type": "execute_result"
    }
   ],
   "source": [
    "rankings = pd.DataFrame({'Text Rank': kw.split('\\n')})\n",
    "rankings.head(10)"
   ]
  },
  {
   "cell_type": "markdown",
   "metadata": {
    "slideshow": {
     "slide_type": "slide"
    }
   },
   "source": [
    "## Мера контрастности $tf-idf$\n",
    "\n",
    "\n",
    "\n",
    "Частота терма [Luhn, 1957]:  Важность терма в тексте пропорциональная его частоте.\n",
    "\n",
    "Обратная документная частота [Spaerck Jones, 1972]: Специфичность терма в тексте обратно пропорциональна числу текстов, в которых терм встречается. \n",
    "\n",
    "$tfidf(term, text, collection) = tf(term, document) \\times idf(term, collection)$\n",
    "\n",
    "Самая популярная комбинация весов: $f_{t,d} \\times \\log \\frac{|D|}{n_t+1}$"
   ]
  },
  {
   "cell_type": "markdown",
   "metadata": {
    "slideshow": {
     "slide_type": "subslide"
    }
   },
   "source": [
    "Извлекаем ключевые слова по $tf-idf$:"
   ]
  },
  {
   "cell_type": "code",
   "execution_count": 20,
   "metadata": {
    "slideshow": {
     "slide_type": "subslide"
    }
   },
   "outputs": [],
   "source": [
    "from sklearn.feature_extraction.text import TfidfVectorizer\n",
    "import numpy as np\n",
    "\n",
    "\n",
    "tfidf = TfidfVectorizer(analyzer='word', ngram_range=(1,1), min_df = 0)\n",
    "tfidf_matrix =  tfidf.fit_transform([' '.join(tokens) for tokens in tokens_by_topic])\n",
    "feature_names = tfidf.get_feature_names() \n",
    "tfidf_ranking = []\n",
    "dense = tfidf_matrix.todense()\n",
    "\n",
    "text = dense[topic_id].tolist()[0]\n",
    "phrase_scores = [pair for pair in zip(range(0, len(text)), text) if pair[1] > 0]\n",
    "sorted_phrase_scores = sorted(phrase_scores, key=lambda t: t[1] * -1)\n",
    "phrases = []\n",
    "for phrase, score in [(feature_names[word_id], score) for (word_id, score) in sorted_phrase_scores][:40]:\n",
    "    tfidf_ranking.append(phrase)"
   ]
  },
  {
   "cell_type": "markdown",
   "metadata": {
    "slideshow": {
     "slide_type": "subslide"
    }
   },
   "source": [
    "Результаты:"
   ]
  },
  {
   "cell_type": "code",
   "execution_count": 21,
   "metadata": {
    "slideshow": {
     "slide_type": "subslide"
    }
   },
   "outputs": [
    {
     "data": {
      "text/html": [
       "<div>\n",
       "<style scoped>\n",
       "    .dataframe tbody tr th:only-of-type {\n",
       "        vertical-align: middle;\n",
       "    }\n",
       "\n",
       "    .dataframe tbody tr th {\n",
       "        vertical-align: top;\n",
       "    }\n",
       "\n",
       "    .dataframe thead th {\n",
       "        text-align: right;\n",
       "    }\n",
       "</style>\n",
       "<table border=\"1\" class=\"dataframe\">\n",
       "  <thead>\n",
       "    <tr style=\"text-align: right;\">\n",
       "      <th></th>\n",
       "      <th>tf-idf</th>\n",
       "    </tr>\n",
       "  </thead>\n",
       "  <tbody>\n",
       "    <tr>\n",
       "      <th>0</th>\n",
       "      <td>ракета</td>\n",
       "    </tr>\n",
       "    <tr>\n",
       "      <th>1</th>\n",
       "      <td>двигатель</td>\n",
       "    </tr>\n",
       "    <tr>\n",
       "      <th>2</th>\n",
       "      <td>ученый</td>\n",
       "    </tr>\n",
       "    <tr>\n",
       "      <th>3</th>\n",
       "      <td>космический</td>\n",
       "    </tr>\n",
       "    <tr>\n",
       "      <th>4</th>\n",
       "      <td>истребитель</td>\n",
       "    </tr>\n",
       "    <tr>\n",
       "      <th>5</th>\n",
       "      <td>российский</td>\n",
       "    </tr>\n",
       "    <tr>\n",
       "      <th>6</th>\n",
       "      <td>россия</td>\n",
       "    </tr>\n",
       "    <tr>\n",
       "      <th>7</th>\n",
       "      <td>сша</td>\n",
       "    </tr>\n",
       "    <tr>\n",
       "      <th>8</th>\n",
       "      <td>человек</td>\n",
       "    </tr>\n",
       "    <tr>\n",
       "      <th>9</th>\n",
       "      <td>новый</td>\n",
       "    </tr>\n",
       "  </tbody>\n",
       "</table>\n",
       "</div>"
      ],
      "text/plain": [
       "        tf-idf\n",
       "0       ракета\n",
       "1    двигатель\n",
       "2       ученый\n",
       "3  космический\n",
       "4  истребитель\n",
       "5   российский\n",
       "6       россия\n",
       "7          сша\n",
       "8      человек\n",
       "9        новый"
      ]
     },
     "execution_count": 21,
     "metadata": {},
     "output_type": "execute_result"
    }
   ],
   "source": [
    "rankings = pd.DataFrame({'tf-idf': tfidf_ranking})\n",
    "rankings.head(10)"
   ]
  },
  {
   "cell_type": "markdown",
   "metadata": {},
   "source": [
    "# Векторная модель "
   ]
  },
  {
   "cell_type": "markdown",
   "metadata": {},
   "source": [
    "|           | $d_1$      | $d_2$      | $\\ldots$ | $d_{D}$    |\n",
    "|-----------|------------|------------|----------|--------------|\n",
    "| $w_1$     | $f_{11}$   | $f_{12}$   |          | $f_{1D}$   |\n",
    "| $w_2$     | $f_{21}$   | $f_{22}$   |          | $f_{2D}$   |\n",
    "| $\\ldots$  |            |            |          |              |\n",
    "| $w_{|V|}$ | $f_{V1}$ | $f_{V2}$ |          | $f_{VD}$ |\n",
    "\n",
    "\n",
    "Косинусная мера близости в векторной модели [Salton et. al, 1975]: \n",
    "$ \\cos(d_i, d_j) = \\frac {d_i \\times d_j}{||d_i||||d_j||} = \\frac{\\sum_k f_{ki} \\times f_{kj}} {\\sqrt{(\\sum_k f_{ki})^2} \\sqrt{(\\sum_k f_{kj})^2}}$\n",
    "\n",
    "\n",
    "Если вектора нормированы на длину $||d_i|| = ||d_j|| = 1$, $ \\cos(d_i, d_j) = d_i \\times d_j$"
   ]
  },
  {
   "cell_type": "markdown",
   "metadata": {
    "slideshow": {
     "slide_type": "slide"
    }
   },
   "source": [
    "## Вычисление сходства и Gensim"
   ]
  },
  {
   "cell_type": "markdown",
   "metadata": {
    "slideshow": {
     "slide_type": "subslide"
    }
   },
   "source": [
    "Представление данных в Gensim словарем и корпусом:"
   ]
  },
  {
   "cell_type": "code",
   "execution_count": 22,
   "metadata": {
    "slideshow": {
     "slide_type": "subslide"
    }
   },
   "outputs": [],
   "source": [
    "from gensim.corpora import *\n",
    "df.sort_values(by = ['topic'], inplace = True)\n",
    "texts = [df.text.iloc[i].split() for i in range(len(df))]\n",
    "dictionary = Dictionary(texts)\n",
    "corpus = [dictionary.doc2bow(text) for text in texts]"
   ]
  },
  {
   "cell_type": "markdown",
   "metadata": {
    "slideshow": {
     "slide_type": "subslide"
    }
   },
   "source": [
    "Вычисление сходства по косинусной мере на векторах $tf-idf$:"
   ]
  },
  {
   "cell_type": "code",
   "execution_count": 23,
   "metadata": {
    "slideshow": {
     "slide_type": "subslide"
    }
   },
   "outputs": [
    {
     "name": "stdout",
     "output_type": "stream",
     "text": [
      "CPU times: user 3.77 s, sys: 34.1 ms, total: 3.8 s\n",
      "Wall time: 3.86 s\n"
     ]
    }
   ],
   "source": [
    "%%time\n",
    "from gensim.models import  *\n",
    "tfidf = TfidfModel(corpus)\n",
    "corpus_tfidf = tfidf[corpus]"
   ]
  },
  {
   "cell_type": "code",
   "execution_count": null,
   "metadata": {
    "slideshow": {
     "slide_type": "subslide"
    }
   },
   "outputs": [],
   "source": [
    "from gensim import similarities\n",
    "\n",
    "index = similarities.MatrixSimilarity(tfidf[corpus])\n",
    "sims = index[corpus_tfidf]"
   ]
  },
  {
   "cell_type": "code",
   "execution_count": null,
   "metadata": {
    "slideshow": {
     "slide_type": "subslide"
    }
   },
   "outputs": [],
   "source": [
    "from pylab import pcolor, show, colorbar, xticks, yticks\n",
    "import seaborn as sns\n",
    "import matplotlib.pyplot as plt\n",
    "%matplotlib inline\n",
    "\n",
    "plt.figure(figsize = (10,10))\n",
    "\n",
    "\n",
    "sns.heatmap(data=sims, cmap = 'Spectral').set(xticklabels=[],yticklabels=[])\n",
    "\n",
    "plt.title(\"Матрица близости\")\n",
    "plt.show()"
   ]
  },
  {
   "cell_type": "code",
   "execution_count": null,
   "metadata": {},
   "outputs": [],
   "source": [
    "from sklearn.manifold import TSNE\n",
    "from sklearn.decomposition import TruncatedSVD\n",
    "from sklearn.pipeline import Pipeline\n",
    "from sklearn.preprocessing import Normalizer\n",
    "from sklearn.feature_extraction.text import *\n",
    "\n",
    "vectors = TfidfVectorizer().fit_transform(df.text)\n",
    "X_reduced = TruncatedSVD(n_components=5, random_state=0).fit_transform(vectors)\n",
    "X_embedded = TSNE(n_components=2, perplexity=5, verbose=0).fit_transform(X_reduced)"
   ]
  },
  {
   "cell_type": "code",
   "execution_count": null,
   "metadata": {},
   "outputs": [],
   "source": [
    "vis_df = pd.DataFrame({'X': X_embedded[:, 0], 'Y': X_embedded[:, 1], 'topic' : df['class']})\n",
    "sns.FacetGrid(vis_df, hue=\"topic\", size=10).map(plt.scatter, \"X\", \"Y\").add_legend()"
   ]
  }
 ],
 "metadata": {
  "celltoolbar": "Slideshow",
  "kernelspec": {
   "display_name": "Python 3",
   "language": "python",
   "name": "python3"
  },
  "language_info": {
   "codemirror_mode": {
    "name": "ipython",
    "version": 3
   },
   "file_extension": ".py",
   "mimetype": "text/x-python",
   "name": "python",
   "nbconvert_exporter": "python",
   "pygments_lexer": "ipython3",
   "version": "3.6.0"
  }
 },
 "nbformat": 4,
 "nbformat_minor": 2
}
